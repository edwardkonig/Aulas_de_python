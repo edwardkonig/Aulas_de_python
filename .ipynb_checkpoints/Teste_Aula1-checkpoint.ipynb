{
 "cells": [
  {
   "cell_type": "code",
   "execution_count": 86,
   "metadata": {},
   "outputs": [
    {
     "name": "stdout",
     "output_type": "stream",
     "text": [
      "Qual é o seu nome ?ed\n",
      "Qual é a sua idade ?21\n",
      "Qual é o seu sexo ?m\n",
      "Onde você mora ?sp\n",
      "Qual pergunta gostaria de refazer? Por favor selecione um número correspondente à pergunta a ser refeita4\n",
      "Onde você mora ?rj\n",
      "{'Qual é o seu nome ?': 'ed', 'Qual é a sua idade ?': '21', 'Qual é o seu sexo ?': 'm', 'Onde você mora ?': 'rj'}\n"
     ]
    }
   ],
   "source": [
    "lista_perguntas = [\n",
    "   \"Qual é o seu nome ?\", \n",
    "   \"Qual é a sua idade ?\",\n",
    "   \"Qual é o seu sexo ?\",\n",
    "   \"Onde você mora ?\"\n",
    "  ]\n",
    "\n",
    "respostas = []\n",
    "\n",
    "for item in lista_perguntas:\n",
    "    respostas.append(input (item))\n",
    "\n",
    "\n",
    "\n",
    "def do_over_q():\n",
    "    do_over = int (input(\"Qual pergunta gostaria de refazer? Por favor selecione um número correspondente à pergunta a ser refeita\"))\n",
    "    i = do_over\n",
    "    for i in range(0,4):\n",
    "        if do_over == i+1:\n",
    "            respostas[i] = input (lista_perguntas[i]) \n",
    "            break\n",
    "        \n",
    "        \n",
    "            \n",
    "do_over_q()\n",
    "    \n",
    "\n",
    "zipobj = zip(lista_perguntas, respostas)\n",
    "d = dict(zipobj)\n",
    "print(d)\n",
    "\n",
    "\n",
    "\n",
    "\n"
   ]
  },
  {
   "cell_type": "code",
   "execution_count": 85,
   "metadata": {},
   "outputs": [
    {
     "data": {
      "text/plain": [
       "'\\nsimple_name = []\\ndef cut_name(list):\\n    for item in list:\\n        last_word =  item.split()[-2]\\n        simple_name.append(last_word)\\n\\nziplist = zip(simple_name, respostas)\\ndic = dict(ziplist)\\nprint(dic)'"
      ]
     },
     "execution_count": 85,
     "metadata": {},
     "output_type": "execute_result"
    }
   ],
   "source": [
    "\n",
    "\"\"\"\n",
    "simple_name = []\n",
    "def cut_name(list):\n",
    "    for item in list:\n",
    "        last_word =  item.split()[-2]\n",
    "        simple_name.append(last_word)\n",
    "\n",
    "ziplist = zip(simple_name, respostas)\n",
    "dic = dict(ziplist)\n",
    "print(dic)\"\"\""
   ]
  },
  {
   "cell_type": "code",
   "execution_count": null,
   "metadata": {},
   "outputs": [],
   "source": []
  },
  {
   "cell_type": "code",
   "execution_count": null,
   "metadata": {},
   "outputs": [],
   "source": []
  },
  {
   "cell_type": "code",
   "execution_count": null,
   "metadata": {},
   "outputs": [],
   "source": []
  }
 ],
 "metadata": {
  "kernelspec": {
   "display_name": "Python 3",
   "language": "python",
   "name": "python3"
  },
  "language_info": {
   "codemirror_mode": {
    "name": "ipython",
    "version": 3
   },
   "file_extension": ".py",
   "mimetype": "text/x-python",
   "name": "python",
   "nbconvert_exporter": "python",
   "pygments_lexer": "ipython3",
   "version": "3.6.5"
  }
 },
 "nbformat": 4,
 "nbformat_minor": 2
}
